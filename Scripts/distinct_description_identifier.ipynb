{
 "cells": [
  {
   "cell_type": "markdown",
   "metadata": {},
   "source": [
    "Use of this script is to identify all distinct decription types"
   ]
  },
  {
   "cell_type": "code",
   "execution_count": null,
   "metadata": {},
   "outputs": [],
   "source": [
    "import pandas as pd\n",
    "\n",
    "def get_unique_descriptions():\n",
    "    # Prompt user for the CSV file path\n",
    "    file_path = input(\"Enter the path to the CSV file: \")\n",
    "    \n",
    "    try:\n",
    "        # Read the CSV file\n",
    "        df = pd.read_csv(file_path)\n",
    "        \n",
    "        # Check if 'Description' column exists\n",
    "        if 'Description' not in df.columns:\n",
    "            print(\"Error: 'Description' column not found in the CSV file.\")\n",
    "            return\n",
    "        \n",
    "        # Get unique descriptions\n",
    "        unique_descriptions = df['Description'].dropna().unique()\n",
    "        \n",
    "        # Print unique descriptions\n",
    "        print(\"\\nDistinct Description Types:\")\n",
    "        for desc in unique_descriptions:\n",
    "            print(f\"- {desc}\")\n",
    "    except Exception as e:\n",
    "        print(f\"Error reading the file: {e}\")\n",
    "\n",
    "if __name__ == \"__main__\":\n",
    "    get_unique_descriptions()\n"
   ]
  }
 ],
 "metadata": {
  "kernelspec": {
   "display_name": "base",
   "language": "python",
   "name": "python3"
  },
  "language_info": {
   "codemirror_mode": {
    "name": "ipython",
    "version": 3
   },
   "file_extension": ".py",
   "mimetype": "text/x-python",
   "name": "python",
   "nbconvert_exporter": "python",
   "pygments_lexer": "ipython3",
   "version": "3.11.5"
  }
 },
 "nbformat": 4,
 "nbformat_minor": 2
}
